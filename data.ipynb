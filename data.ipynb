{
 "cells": [
  {
   "cell_type": "code",
   "execution_count": 2,
   "metadata": {},
   "outputs": [
    {
     "data": {
      "text/html": [
       "<div>\n",
       "<style scoped>\n",
       "    .dataframe tbody tr th:only-of-type {\n",
       "        vertical-align: middle;\n",
       "    }\n",
       "\n",
       "    .dataframe tbody tr th {\n",
       "        vertical-align: top;\n",
       "    }\n",
       "\n",
       "    .dataframe thead th {\n",
       "        text-align: right;\n",
       "    }\n",
       "</style>\n",
       "<table border=\"1\" class=\"dataframe\">\n",
       "  <thead>\n",
       "    <tr style=\"text-align: right;\">\n",
       "      <th></th>\n",
       "      <th>id</th>\n",
       "      <th>first_name</th>\n",
       "      <th>last_name</th>\n",
       "      <th>username</th>\n",
       "      <th>phone</th>\n",
       "    </tr>\n",
       "  </thead>\n",
       "  <tbody>\n",
       "    <tr>\n",
       "      <th>0</th>\n",
       "      <td>1416148</td>\n",
       "      <td>t.d</td>\n",
       "      <td>NaN</td>\n",
       "      <td>EseTio</td>\n",
       "      <td>NaN</td>\n",
       "    </tr>\n",
       "    <tr>\n",
       "      <th>1</th>\n",
       "      <td>1618413</td>\n",
       "      <td>Swarley Stinson</td>\n",
       "      <td>NaN</td>\n",
       "      <td>Swarley_Stinson</td>\n",
       "      <td>NaN</td>\n",
       "    </tr>\n",
       "    <tr>\n",
       "      <th>2</th>\n",
       "      <td>3044266</td>\n",
       "      <td>Jose.....</td>\n",
       "      <td>NaN</td>\n",
       "      <td>Josebagv</td>\n",
       "      <td>NaN</td>\n",
       "    </tr>\n",
       "    <tr>\n",
       "      <th>3</th>\n",
       "      <td>3363169</td>\n",
       "      <td>Carmen Maria</td>\n",
       "      <td>NaN</td>\n",
       "      <td>Carmenmariagc</td>\n",
       "      <td>NaN</td>\n",
       "    </tr>\n",
       "    <tr>\n",
       "      <th>4</th>\n",
       "      <td>7768750</td>\n",
       "      <td>Montxino</td>\n",
       "      <td>NaN</td>\n",
       "      <td>montxino</td>\n",
       "      <td>NaN</td>\n",
       "    </tr>\n",
       "    <tr>\n",
       "      <th>...</th>\n",
       "      <td>...</td>\n",
       "      <td>...</td>\n",
       "      <td>...</td>\n",
       "      <td>...</td>\n",
       "      <td>...</td>\n",
       "    </tr>\n",
       "    <tr>\n",
       "      <th>2994</th>\n",
       "      <td>7441213699</td>\n",
       "      <td>Adele</td>\n",
       "      <td>NaN</td>\n",
       "      <td>hdhtdh1564</td>\n",
       "      <td>NaN</td>\n",
       "    </tr>\n",
       "    <tr>\n",
       "      <th>2995</th>\n",
       "      <td>7445289924</td>\n",
       "      <td>Văn Hoàng Anh</td>\n",
       "      <td>Nguyễn</td>\n",
       "      <td>nvha_2</td>\n",
       "      <td>NaN</td>\n",
       "    </tr>\n",
       "    <tr>\n",
       "      <th>2996</th>\n",
       "      <td>7455218256</td>\n",
       "      <td>295</td>\n",
       "      <td>NaN</td>\n",
       "      <td>khcbml_45phvfqel</td>\n",
       "      <td>NaN</td>\n",
       "    </tr>\n",
       "    <tr>\n",
       "      <th>2997</th>\n",
       "      <td>7474772926</td>\n",
       "      <td>driss lakciba</td>\n",
       "      <td>爱意.</td>\n",
       "      <td>rkxidng_70fldcturan</td>\n",
       "      <td>NaN</td>\n",
       "    </tr>\n",
       "    <tr>\n",
       "      <th>2998</th>\n",
       "      <td>7477890866</td>\n",
       "      <td>William</td>\n",
       "      <td>Cooper</td>\n",
       "      <td>WanictHeer</td>\n",
       "      <td>NaN</td>\n",
       "    </tr>\n",
       "  </tbody>\n",
       "</table>\n",
       "<p>2999 rows × 5 columns</p>\n",
       "</div>"
      ],
      "text/plain": [
       "              id       first_name last_name             username  phone\n",
       "0        1416148              t.d       NaN               EseTio    NaN\n",
       "1        1618413  Swarley Stinson       NaN      Swarley_Stinson    NaN\n",
       "2        3044266        Jose.....       NaN             Josebagv    NaN\n",
       "3        3363169     Carmen Maria       NaN        Carmenmariagc    NaN\n",
       "4        7768750         Montxino       NaN             montxino    NaN\n",
       "...          ...              ...       ...                  ...    ...\n",
       "2994  7441213699            Adele       NaN           hdhtdh1564    NaN\n",
       "2995  7445289924    Văn Hoàng Anh    Nguyễn               nvha_2    NaN\n",
       "2996  7455218256              295       NaN     khcbml_45phvfqel    NaN\n",
       "2997  7474772926    driss lakciba       爱意.  rkxidng_70fldcturan    NaN\n",
       "2998  7477890866          William    Cooper           WanictHeer    NaN\n",
       "\n",
       "[2999 rows x 5 columns]"
      ]
     },
     "execution_count": 2,
     "metadata": {},
     "output_type": "execute_result"
    }
   ],
   "source": [
    "import pandas as pd\n",
    "\n",
    "df = pd.read_csv(\"sunday_contacts.csv\")\n",
    "df"
   ]
  },
  {
   "cell_type": "code",
   "execution_count": 3,
   "metadata": {},
   "outputs": [
    {
     "name": "stdout",
     "output_type": "stream",
     "text": [
      "<class 'pandas.core.frame.DataFrame'>\n",
      "RangeIndex: 2999 entries, 0 to 2998\n",
      "Data columns (total 5 columns):\n",
      " #   Column      Non-Null Count  Dtype  \n",
      "---  ------      --------------  -----  \n",
      " 0   id          2999 non-null   int64  \n",
      " 1   first_name  2998 non-null   object \n",
      " 2   last_name   1413 non-null   object \n",
      " 3   username    2557 non-null   object \n",
      " 4   phone       58 non-null     float64\n",
      "dtypes: float64(1), int64(1), object(3)\n",
      "memory usage: 117.3+ KB\n"
     ]
    }
   ],
   "source": [
    "df.info()"
   ]
  },
  {
   "cell_type": "code",
   "execution_count": 7,
   "metadata": {},
   "outputs": [],
   "source": [
    "df.dropna(inplace= True)"
   ]
  },
  {
   "cell_type": "code",
   "execution_count": 9,
   "metadata": {},
   "outputs": [
    {
     "name": "stdout",
     "output_type": "stream",
     "text": [
      "<class 'pandas.core.frame.DataFrame'>\n",
      "Index: 22 entries, 22 to 2840\n",
      "Data columns (total 5 columns):\n",
      " #   Column      Non-Null Count  Dtype  \n",
      "---  ------      --------------  -----  \n",
      " 0   id          22 non-null     int64  \n",
      " 1   first_name  22 non-null     object \n",
      " 2   last_name   22 non-null     object \n",
      " 3   username    22 non-null     object \n",
      " 4   phone       22 non-null     float64\n",
      "dtypes: float64(1), int64(1), object(3)\n",
      "memory usage: 1.0+ KB\n"
     ]
    }
   ],
   "source": [
    "df.info()"
   ]
  },
  {
   "cell_type": "code",
   "execution_count": 10,
   "metadata": {},
   "outputs": [],
   "source": [
    "df.to_csv(\"new_contacts\")"
   ]
  },
  {
   "cell_type": "code",
   "execution_count": null,
   "metadata": {},
   "outputs": [],
   "source": []
  }
 ],
 "metadata": {
  "kernelspec": {
   "display_name": "ezra",
   "language": "python",
   "name": "python3"
  },
  "language_info": {
   "codemirror_mode": {
    "name": "ipython",
    "version": 3
   },
   "file_extension": ".py",
   "mimetype": "text/x-python",
   "name": "python",
   "nbconvert_exporter": "python",
   "pygments_lexer": "ipython3",
   "version": "3.12.2"
  }
 },
 "nbformat": 4,
 "nbformat_minor": 2
}
